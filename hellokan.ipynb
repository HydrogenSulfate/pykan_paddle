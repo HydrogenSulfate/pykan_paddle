{
 "cells": [
  {
   "cell_type": "markdown",
   "id": "134e7f9d",
   "metadata": {},
   "source": [
    "# Hello, KAN!"
   ]
  },
  {
   "cell_type": "markdown",
   "id": "59cf5cd0",
   "metadata": {},
   "source": [
    "### Kolmogorov-Arnold representation theorem"
   ]
  },
  {
   "cell_type": "markdown",
   "id": "f88e5321",
   "metadata": {},
   "source": [
    "Kolmogorov-Arnold representation theorem states that if $f$ is a multivariate continuous function\n",
    "on a bounded domain, then it can be written as a finite composition of continuous functions of a\n",
    "single variable and the binary operation of addition. More specifically, for a smooth $f : [0,1]^n \\to \\mathbb{R}$,\n",
    "\n",
    "\n",
    "$$f(x) = f(x_1,...,x_n)=\\sum_{q=1}^{2n+1}\\Phi_q(\\sum_{p=1}^n \\phi_{q,p}(x_p))$$\n",
    "\n",
    "where $\\phi_{q,p}:[0,1]\\to\\mathbb{R}$ and $\\Phi_q:\\mathbb{R}\\to\\mathbb{R}$. In a sense, they showed that the only true multivariate function is addition, since every other function can be written using univariate functions and sum. However, this 2-Layer width-$(2n+1)$ Kolmogorov-Arnold representation may not be smooth due to its limited expressive power. We augment its expressive power by generalizing it to arbitrary depths and widths."
   ]
  },
  {
   "cell_type": "markdown",
   "id": "ebd8766a",
   "metadata": {},
   "source": [
    "### Kolmogorov-Arnold Network (KAN)"
   ]
  },
  {
   "cell_type": "markdown",
   "id": "2cf3b1ee",
   "metadata": {},
   "source": [
    "The Kolmogorov-Arnold representation can be written in matrix form\n",
    "\n",
    "$$f(x)={\\bf \\Phi}_{\\rm out}\\circ{\\bf \\Phi}_{\\rm in}\\circ {\\bf x}$$\n",
    "\n",
    "where \n",
    "\n",
    "$${\\bf \\Phi}_{\\rm in}= \\begin{pmatrix} \\phi_{1,1}(\\cdot) & \\cdots & \\phi_{1,n}(\\cdot) \\\\ \\vdots & & \\vdots \\\\ \\phi_{2n+1,1}(\\cdot) & \\cdots & \\phi_{2n+1,n}(\\cdot) \\end{pmatrix},\\quad {\\bf \\Phi}_{\\rm out}=\\begin{pmatrix} \\Phi_1(\\cdot) & \\cdots & \\Phi_{2n+1}(\\cdot)\\end{pmatrix}$$"
   ]
  },
  {
   "cell_type": "markdown",
   "id": "f6521452",
   "metadata": {},
   "source": [
    "We notice that both ${\\bf \\Phi}_{\\rm in}$ and ${\\bf \\Phi}_{\\rm out}$ are special cases of the following function matrix ${\\bf \\Phi}$ (with $n_{\\rm in}$ inputs, and $n_{\\rm out}$ outputs), we call a Kolmogorov-Arnold layer:\n",
    "\n",
    "$${\\bf \\Phi}= \\begin{pmatrix} \\phi_{1,1}(\\cdot) & \\cdots & \\phi_{1,n_{\\rm in}}(\\cdot) \\\\ \\vdots & & \\vdots \\\\ \\phi_{n_{\\rm out},1}(\\cdot) & \\cdots & \\phi_{n_{\\rm out},n_{\\rm in}}(\\cdot) \\end{pmatrix}$$\n",
    "\n",
    "${\\bf \\Phi}_{\\rm in}$ corresponds to $n_{\\rm in}=n, n_{\\rm out}=2n+1$, and ${\\bf \\Phi}_{\\rm out}$ corresponds to $n_{\\rm in}=2n+1, n_{\\rm out}=1$."
   ]
  },
  {
   "cell_type": "markdown",
   "id": "1b410498",
   "metadata": {},
   "source": [
    "After defining the layer, we can construct a Kolmogorov-Arnold network simply by stacking layers! Let's say we have $L$ layers, with the $l^{\\rm th}$ layer ${\\bf \\Phi}_l$ have shape $(n_{l+1}, n_{l})$. Then the whole network is\n",
    "\n",
    "$${\\rm KAN}({\\bf x})={\\bf \\Phi}_{L-1}\\circ\\cdots \\circ{\\bf \\Phi}_1\\circ{\\bf \\Phi}_0\\circ {\\bf x}$$"
   ]
  },
  {
   "cell_type": "markdown",
   "id": "46fc8aa6",
   "metadata": {},
   "source": []
  },
  {
   "cell_type": "markdown",
   "id": "54bbde9a",
   "metadata": {},
   "source": [
    "In constrast, a Multi-Layer Perceptron is interleaved by linear layers ${\\bf W}_l$ and nonlinearities $\\sigma$:\n",
    "\n",
    "$${\\rm MLP}({\\bf x})={\\bf W}_{L-1}\\circ\\sigma\\circ\\cdots\\circ {\\bf W}_1\\circ\\sigma\\circ {\\bf W}_0\\circ {\\bf x}$$"
   ]
  },
  {
   "cell_type": "markdown",
   "id": "1c5f7795",
   "metadata": {},
   "source": [
    "A KAN can be easily visualized. (1) A KAN is simply stack of KAN layers. (2) Each KAN layer can be visualized as a fully-connected layer, with a 1D function placed on each edge. Let's see an example below."
   ]
  },
  {
   "cell_type": "markdown",
   "id": "adcb5f75",
   "metadata": {},
   "source": [
    "### Get started with KANs"
   ]
  },
  {
   "cell_type": "markdown",
   "id": "2571d531",
   "metadata": {},
   "source": [
    "Initialize KAN"
   ]
  },
  {
   "cell_type": "code",
   "execution_count": 2,
   "id": "2075ef56",
   "metadata": {},
   "outputs": [
    {
     "name": "stderr",
     "output_type": "stream",
     "text": [
      "Error: Can not import paddle core while this file exists: /workspace/hesensen/anaconda3/envs/conda_py310/lib/python3.10/site-packages/paddle/base/libpaddle.so\n"
     ]
    },
    {
     "ename": "ImportError",
     "evalue": "libpython3.10.so.1.0: cannot open shared object file: No such file or directory",
     "output_type": "error",
     "traceback": [
      "\u001b[0;31m---------------------------------------------------------------------------\u001b[0m",
      "\u001b[0;31mImportError\u001b[0m                               Traceback (most recent call last)",
      "\u001b[1;32m/workspace/hesensen/symbolic_regression/pykan_paddle/hellokan.ipynb 单元格 13\u001b[0m line \u001b[0;36m1\n\u001b[1;32m     <a href='vscode-notebook-cell://icoding%2B321516.icoding.baidu-int.com/workspace/hesensen/symbolic_regression/pykan_paddle/hellokan.ipynb#X15sdnNjb2RlLXJlbW90ZQ%3D%3D?line=11'>12</a>\u001b[0m \u001b[39m# 更新 LD_LIBRARY_PATH\u001b[39;00m\n\u001b[1;32m     <a href='vscode-notebook-cell://icoding%2B321516.icoding.baidu-int.com/workspace/hesensen/symbolic_regression/pykan_paddle/hellokan.ipynb#X15sdnNjb2RlLXJlbW90ZQ%3D%3D?line=12'>13</a>\u001b[0m os\u001b[39m.\u001b[39menviron[\u001b[39m'\u001b[39m\u001b[39mLD_LIBRARY_PATH\u001b[39m\u001b[39m'\u001b[39m] \u001b[39m=\u001b[39m \u001b[39m'\u001b[39m\u001b[39m:\u001b[39m\u001b[39m'\u001b[39m\u001b[39m.\u001b[39mjoin([current_ld_library_path] \u001b[39m+\u001b[39m new_paths)\n\u001b[0;32m---> <a href='vscode-notebook-cell://icoding%2B321516.icoding.baidu-int.com/workspace/hesensen/symbolic_regression/pykan_paddle/hellokan.ipynb#X15sdnNjb2RlLXJlbW90ZQ%3D%3D?line=14'>15</a>\u001b[0m \u001b[39mimport\u001b[39;00m \u001b[39mpaddle\u001b[39;00m\n\u001b[1;32m     <a href='vscode-notebook-cell://icoding%2B321516.icoding.baidu-int.com/workspace/hesensen/symbolic_regression/pykan_paddle/hellokan.ipynb#X15sdnNjb2RlLXJlbW90ZQ%3D%3D?line=15'>16</a>\u001b[0m \u001b[39mfrom\u001b[39;00m \u001b[39mkan\u001b[39;00m \u001b[39mimport\u001b[39;00m \u001b[39m*\u001b[39m\n\u001b[1;32m     <a href='vscode-notebook-cell://icoding%2B321516.icoding.baidu-int.com/workspace/hesensen/symbolic_regression/pykan_paddle/hellokan.ipynb#X15sdnNjb2RlLXJlbW90ZQ%3D%3D?line=16'>17</a>\u001b[0m \u001b[39mimport\u001b[39;00m \u001b[39mnumpy\u001b[39;00m \u001b[39mas\u001b[39;00m \u001b[39mnp\u001b[39;00m\n",
      "File \u001b[0;32m/workspace/hesensen/anaconda3/envs/conda_py310/lib/python3.10/site-packages/paddle/__init__.py:38\u001b[0m\n\u001b[1;32m     31\u001b[0m     sys\u001b[39m.\u001b[39mstderr\u001b[39m.\u001b[39mwrite(\n\u001b[1;32m     32\u001b[0m \u001b[39m        \u001b[39m\u001b[39m'''Warning with import paddle: you should not\u001b[39;00m\n\u001b[1;32m     33\u001b[0m \u001b[39m     import paddle from the source directory; please install paddlepaddle*.whl firstly.'''\u001b[39;00m\n\u001b[1;32m     34\u001b[0m     )\n\u001b[1;32m     36\u001b[0m \u001b[39m# NOTE(SigureMo): We should place the import of base.core before other modules,\u001b[39;00m\n\u001b[1;32m     37\u001b[0m \u001b[39m# because there are some initialization codes in base/core/__init__.py.\u001b[39;00m\n\u001b[0;32m---> 38\u001b[0m \u001b[39mfrom\u001b[39;00m \u001b[39m.\u001b[39;00m\u001b[39mbase\u001b[39;00m \u001b[39mimport\u001b[39;00m core  \u001b[39m# noqa: F401\u001b[39;00m\n\u001b[1;32m     39\u001b[0m \u001b[39mfrom\u001b[39;00m \u001b[39m.\u001b[39;00m\u001b[39mbatch\u001b[39;00m \u001b[39mimport\u001b[39;00m batch\n\u001b[1;32m     41\u001b[0m \u001b[39m# Do the *DUPLICATED* monkey-patch for the tensor object.\u001b[39;00m\n\u001b[1;32m     42\u001b[0m \u001b[39m# We need remove the duplicated code here once we fix\u001b[39;00m\n\u001b[1;32m     43\u001b[0m \u001b[39m# the illogical implement in the monkey-patch methods later.\u001b[39;00m\n",
      "File \u001b[0;32m/workspace/hesensen/anaconda3/envs/conda_py310/lib/python3.10/site-packages/paddle/base/__init__.py:38\u001b[0m\n\u001b[1;32m     34\u001b[0m         \u001b[39mraise\u001b[39;00m e\n\u001b[1;32m     36\u001b[0m \u001b[39m# import all class inside framework into base module\u001b[39;00m\n\u001b[1;32m     37\u001b[0m \u001b[39m# import all class inside executor into base module\u001b[39;00m\n\u001b[0;32m---> 38\u001b[0m \u001b[39mfrom\u001b[39;00m \u001b[39m.\u001b[39;00m \u001b[39mimport\u001b[39;00m (  \u001b[39m# noqa: F401\u001b[39;00m\n\u001b[1;32m     39\u001b[0m     backward,\n\u001b[1;32m     40\u001b[0m     compiler,\n\u001b[1;32m     41\u001b[0m     core,\n\u001b[1;32m     42\u001b[0m     data_feed_desc,\n\u001b[1;32m     43\u001b[0m     dataset,\n\u001b[1;32m     44\u001b[0m     dygraph,\n\u001b[1;32m     45\u001b[0m     executor,\n\u001b[1;32m     46\u001b[0m     framework,\n\u001b[1;32m     47\u001b[0m     incubate,\n\u001b[1;32m     48\u001b[0m     initializer,\n\u001b[1;32m     49\u001b[0m     io,\n\u001b[1;32m     50\u001b[0m     layers,\n\u001b[1;32m     51\u001b[0m     trainer_desc,\n\u001b[1;32m     52\u001b[0m     unique_name,\n\u001b[1;32m     53\u001b[0m )\n\u001b[1;32m     54\u001b[0m \u001b[39mfrom\u001b[39;00m \u001b[39m.\u001b[39;00m\u001b[39mbackward\u001b[39;00m \u001b[39mimport\u001b[39;00m (  \u001b[39m# noqa: F401\u001b[39;00m\n\u001b[1;32m     55\u001b[0m     append_backward,\n\u001b[1;32m     56\u001b[0m     gradients,\n\u001b[1;32m     57\u001b[0m )\n\u001b[1;32m     58\u001b[0m \u001b[39mfrom\u001b[39;00m \u001b[39m.\u001b[39;00m\u001b[39mcompiler\u001b[39;00m \u001b[39mimport\u001b[39;00m (  \u001b[39m# noqa: F401\u001b[39;00m\n\u001b[1;32m     59\u001b[0m     BuildStrategy,\n\u001b[1;32m     60\u001b[0m     CompiledProgram,\n\u001b[1;32m     61\u001b[0m     IpuCompiledProgram,\n\u001b[1;32m     62\u001b[0m     IpuStrategy,\n\u001b[1;32m     63\u001b[0m )\n",
      "File \u001b[0;32m/workspace/hesensen/anaconda3/envs/conda_py310/lib/python3.10/site-packages/paddle/base/backward.py:28\u001b[0m\n\u001b[1;32m     24\u001b[0m \u001b[39mfrom\u001b[39;00m \u001b[39mtyping\u001b[39;00m \u001b[39mimport\u001b[39;00m TYPE_CHECKING, overload\n\u001b[1;32m     26\u001b[0m \u001b[39mimport\u001b[39;00m \u001b[39mpaddle\u001b[39;00m\u001b[39m.\u001b[39;00m\u001b[39mbase\u001b[39;00m\n\u001b[0;32m---> 28\u001b[0m \u001b[39mfrom\u001b[39;00m \u001b[39m.\u001b[39;00m \u001b[39mimport\u001b[39;00m core, framework, log_helper, unique_name\n\u001b[1;32m     29\u001b[0m \u001b[39mfrom\u001b[39;00m \u001b[39m.\u001b[39;00m\u001b[39mdata_feeder\u001b[39;00m \u001b[39mimport\u001b[39;00m check_type\n\u001b[1;32m     30\u001b[0m \u001b[39mfrom\u001b[39;00m \u001b[39m.\u001b[39;00m\u001b[39mframework\u001b[39;00m \u001b[39mimport\u001b[39;00m program_guard\n",
      "File \u001b[0;32m/workspace/hesensen/anaconda3/envs/conda_py310/lib/python3.10/site-packages/paddle/base/core.py:387\u001b[0m\n\u001b[1;32m    382\u001b[0m     \u001b[39mif\u001b[39;00m \u001b[39mnot\u001b[39;00m avx_supported() \u001b[39mand\u001b[39;00m libpaddle\u001b[39m.\u001b[39mis_compiled_with_avx():\n\u001b[1;32m    383\u001b[0m         sys\u001b[39m.\u001b[39mstderr\u001b[39m.\u001b[39mwrite(\n\u001b[1;32m    384\u001b[0m             \u001b[39m\"\u001b[39m\u001b[39mError: Your machine doesn\u001b[39m\u001b[39m'\u001b[39m\u001b[39mt support AVX, but the installed PaddlePaddle is avx core, \u001b[39m\u001b[39m\"\u001b[39m\n\u001b[1;32m    385\u001b[0m             \u001b[39m\"\u001b[39m\u001b[39myou should reinstall paddlepaddle with no-avx core.\u001b[39m\u001b[39m\\n\u001b[39;00m\u001b[39m\"\u001b[39m\n\u001b[1;32m    386\u001b[0m         )\n\u001b[0;32m--> 387\u001b[0m     \u001b[39mraise\u001b[39;00m e\n\u001b[1;32m    390\u001b[0m \u001b[39mdef\u001b[39;00m \u001b[39mset_paddle_custom_device_lib_path\u001b[39m(lib_path):\n\u001b[1;32m    391\u001b[0m     \u001b[39mif\u001b[39;00m os\u001b[39m.\u001b[39menviron\u001b[39m.\u001b[39mget(\u001b[39m'\u001b[39m\u001b[39mCUSTOM_DEVICE_ROOT\u001b[39m\u001b[39m'\u001b[39m, \u001b[39mNone\u001b[39;00m) \u001b[39mis\u001b[39;00m \u001b[39mnot\u001b[39;00m \u001b[39mNone\u001b[39;00m:\n\u001b[1;32m    392\u001b[0m         \u001b[39m# use setted environment value\u001b[39;00m\n",
      "File \u001b[0;32m/workspace/hesensen/anaconda3/envs/conda_py310/lib/python3.10/site-packages/paddle/base/core.py:267\u001b[0m\n\u001b[1;32m    264\u001b[0m             sys\u001b[39m.\u001b[39mstderr\u001b[39m.\u001b[39mwrite(\u001b[39m'\u001b[39m\u001b[39mError: Can not preload libgomp.so\u001b[39m\u001b[39m'\u001b[39m)\n\u001b[1;32m    266\u001b[0m \u001b[39mtry\u001b[39;00m:\n\u001b[0;32m--> 267\u001b[0m     \u001b[39mfrom\u001b[39;00m \u001b[39m.\u001b[39;00m \u001b[39mimport\u001b[39;00m libpaddle\n\u001b[1;32m    269\u001b[0m     \u001b[39mif\u001b[39;00m avx_supported() \u001b[39mand\u001b[39;00m \u001b[39mnot\u001b[39;00m libpaddle\u001b[39m.\u001b[39mis_compiled_with_avx():\n\u001b[1;32m    270\u001b[0m         sys\u001b[39m.\u001b[39mstderr\u001b[39m.\u001b[39mwrite(\n\u001b[1;32m    271\u001b[0m             \u001b[39m\"\u001b[39m\u001b[39mHint: Your machine support AVX, but the installed paddlepaddle doesn\u001b[39m\u001b[39m'\u001b[39m\u001b[39mt have avx core. \u001b[39m\u001b[39m\"\u001b[39m\n\u001b[1;32m    272\u001b[0m             \u001b[39m\"\u001b[39m\u001b[39mHence, no-avx core with worse performance will be imported.\u001b[39m\u001b[39m\\n\u001b[39;00m\u001b[39mIf you like, you could \u001b[39m\u001b[39m\"\u001b[39m\n\u001b[1;32m    273\u001b[0m             \u001b[39m\"\u001b[39m\u001b[39mreinstall paddlepaddle by \u001b[39m\u001b[39m'\u001b[39m\u001b[39mpython -m pip install --force-reinstall paddlepaddle-gpu[==version]\u001b[39m\u001b[39m'\u001b[39m\u001b[39m \u001b[39m\u001b[39m\"\u001b[39m\n\u001b[1;32m    274\u001b[0m             \u001b[39m\"\u001b[39m\u001b[39mto get better performance.\u001b[39m\u001b[39m\\n\u001b[39;00m\u001b[39m\"\u001b[39m\n\u001b[1;32m    275\u001b[0m         )\n",
      "\u001b[0;31mImportError\u001b[0m: libpython3.10.so.1.0: cannot open shared object file: No such file or directory"
     ]
    }
   ],
   "source": [
    "import os\n",
    "\n",
    "# 获取当前的 LD_LIBRARY_PATH\n",
    "current_ld_library_path = os.environ.get('LD_LIBRARY_PATH', '')\n",
    "\n",
    "# 添加新的路径\n",
    "new_paths = [\n",
    "    '/workspace/hesensen/anaconda3/envs/conda_py310/lib/',\n",
    "    '/workspace/hesensen/anaconda3/envs/py310/lib/python3.10/site-packages/nvidia/cublas/lib/'\n",
    "]\n",
    "\n",
    "# 更新 LD_LIBRARY_PATH\n",
    "os.environ['LD_LIBRARY_PATH'] = ':'.join([current_ld_library_path] + new_paths)\n",
    "\n",
    "import paddle\n",
    "from kan import *\n",
    "import numpy as np\n",
    "paddle.set_default_dtype(paddle.float64)\n",
    "# create a KAN: 2D inputs, 1D output, and 5 hidden neurons. cubic spline (k=3), 5 grid intervals (grid=5).\n",
    "model = KAN(width=[2,5,1], grid=3, k=3, seed=42)"
   ]
  },
  {
   "cell_type": "markdown",
   "id": "3d72e076",
   "metadata": {},
   "source": [
    "Create dataset"
   ]
  },
  {
   "cell_type": "code",
   "execution_count": 2,
   "id": "46717e8b",
   "metadata": {},
   "outputs": [
    {
     "data": {
      "text/plain": [
       "([1000, 2], [1000, 1])"
      ]
     },
     "execution_count": 2,
     "metadata": {},
     "output_type": "execute_result"
    }
   ],
   "source": [
    "from kan.utils import create_dataset\n",
    "# create dataset f(x,y) = exp(sin(pi*x)+y^2)\n",
    "f = lambda x: paddle.exp(paddle.sin(np.pi*x[:,[0]]) + x[:,[1]]**2)\n",
    "dataset = create_dataset(f, n_var=2)\n",
    "dataset['train_input'].shape, dataset['train_label'].shape"
   ]
  },
  {
   "cell_type": "markdown",
   "id": "8c6add1d",
   "metadata": {},
   "source": [
    "Plot KAN at initialization"
   ]
  },
  {
   "cell_type": "code",
   "execution_count": 3,
   "id": "ac76f858",
   "metadata": {},
   "outputs": [
    {
     "name": "stdout",
     "output_type": "stream",
     "text": [
      "expand to : [1, 0, 2]\n",
      "expand to : [1, 0, 2]\n"
     ]
    },
    {
     "data": {
      "image/png": "[encoded data removed]",
      "text/plain": [
       "<Figure size 500x400 with 22 Axes>"
      ]
     },
     "metadata": {},
     "output_type": "display_data"
    }
   ],
   "source": [
    "# plot KAN at initialization\n",
    "model(dataset['train_input']);\n",
    "model.plot()"
   ]
  },
  {
   "cell_type": "markdown",
   "id": "ddf67e30",
   "metadata": {},
   "source": [
    "Train KAN with sparsity regularization"
   ]
  },
  {
   "cell_type": "code",
   "execution_count": 4,
   "id": "97111d75",
   "metadata": {},
   "outputs": [
    {
     "name": "stderr",
     "output_type": "stream",
     "text": [
      "description:   0%|                                                           | 0/50 [00:00<?, ?it/s]"
     ]
    },
    {
     "ename": "",
     "evalue": "",
     "output_type": "error",
     "traceback": [
      "\u001b[1;31m无法执行代码，已释放会话。请尝试重新启动内核。"
     ]
    },
    {
     "ename": "",
     "evalue": "",
     "output_type": "error",
     "traceback": [
      "\u001b[1;31m在当前单元格或上一个单元格中执行代码时 Kernel 崩溃。请查看单元格中的代码，以确定故障的可能原因。有关详细信息，请单击 <a href='https://aka.ms/vscodeJupyterKernelCrash'>此处</a>。有关更多详细信息，请查看 Jupyter <a href='command:jupyter.viewOutput'>log</a>。"
     ]
    }
   ],
   "source": [
    "# train the model\n",
    "model.fit(dataset, opt=\"LBFGS\", steps=50, lamb=0.001);"
   ]
  },
  {
   "cell_type": "markdown",
   "id": "2f30c3ab",
   "metadata": {},
   "source": [
    "Plot trained KAN"
   ]
  },
  {
   "cell_type": "code",
   "execution_count": null,
   "id": "92a4f67a",
   "metadata": {},
   "outputs": [],
   "source": [
    "model.plot()"
   ]
  },
  {
   "cell_type": "markdown",
   "id": "576856cf",
   "metadata": {},
   "source": [
    "Prune KAN and replot"
   ]
  },
  {
   "cell_type": "code",
   "execution_count": null,
   "id": "7fe6fb12",
   "metadata": {},
   "outputs": [],
   "source": [
    "model = model.prune()\n",
    "model.plot()"
   ]
  },
  {
   "cell_type": "markdown",
   "id": "bd08ad99",
   "metadata": {},
   "source": [
    "Continue training and replot"
   ]
  },
  {
   "cell_type": "code",
   "execution_count": null,
   "id": "18a2db11",
   "metadata": {},
   "outputs": [],
   "source": [
    "model.fit(dataset, opt=\"LBFGS\", steps=50);"
   ]
  },
  {
   "cell_type": "code",
   "execution_count": null,
   "id": "8768d56c",
   "metadata": {},
   "outputs": [],
   "source": [
    "model = model.refine(10)"
   ]
  },
  {
   "cell_type": "code",
   "execution_count": null,
   "id": "46f73098",
   "metadata": {
    "scrolled": false
   },
   "outputs": [],
   "source": [
    "model.fit(dataset, opt=\"LBFGS\", steps=50);"
   ]
  },
  {
   "cell_type": "markdown",
   "id": "cf35d505",
   "metadata": {},
   "source": [
    "Automatically or manually set activation functions to be symbolic"
   ]
  },
  {
   "cell_type": "code",
   "execution_count": null,
   "id": "b3c0642b",
   "metadata": {},
   "outputs": [],
   "source": [
    "mode = \"auto\" # \"manual\"\n",
    "\n",
    "if mode == \"manual\":\n",
    "    # manual mode\n",
    "    model.fix_symbolic(0,0,0,'sin');\n",
    "    model.fix_symbolic(0,1,0,'x^2');\n",
    "    model.fix_symbolic(1,0,0,'exp');\n",
    "elif mode == \"auto\":\n",
    "    # automatic mode\n",
    "    lib = ['x','x^2','x^3','x^4','exp','log','sqrt','tanh','sin','abs']\n",
    "    model.auto_symbolic(lib=lib)"
   ]
  },
  {
   "cell_type": "markdown",
   "id": "821ba616",
   "metadata": {},
   "source": [
    "Continue training till machine precision"
   ]
  },
  {
   "cell_type": "code",
   "execution_count": null,
   "id": "c0800415",
   "metadata": {},
   "outputs": [],
   "source": [
    "model.fit(dataset, opt=\"LBFGS\", steps=50);"
   ]
  },
  {
   "cell_type": "markdown",
   "id": "e39da499",
   "metadata": {},
   "source": [
    "Obtain the symbolic formula"
   ]
  },
  {
   "cell_type": "code",
   "execution_count": null,
   "id": "bf44f7e0",
   "metadata": {},
   "outputs": [],
   "source": [
    "from kan.utils import ex_round\n",
    "\n",
    "ex_round(model.symbolic_formula()[0][0],4)"
   ]
  },
  {
   "cell_type": "code",
   "execution_count": null,
   "id": "16e635f0",
   "metadata": {},
   "outputs": [],
   "source": []
  }
 ],
 "metadata": {
  "kernelspec": {
   "display_name": "Python 3 (ipykernel)",
   "language": "python",
   "name": "python3"
  },
  "language_info": {
   "codemirror_mode": {
    "name": "ipython",
    "version": 3
   },
   "file_extension": ".py",
   "mimetype": "text/x-python",
   "name": "python",
   "nbconvert_exporter": "python",
   "pygments_lexer": "ipython3",
   "version": "3.10.15"
  }
 },
 "nbformat": 4,
 "nbformat_minor": 5
}
